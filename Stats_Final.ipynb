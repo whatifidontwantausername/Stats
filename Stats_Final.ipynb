{
  "nbformat": 4,
  "nbformat_minor": 0,
  "metadata": {
    "colab": {
      "provenance": []
    },
    "kernelspec": {
      "name": "python3",
      "display_name": "Python 3"
    },
    "language_info": {
      "name": "python"
    }
  },
  "cells": [
    {
      "cell_type": "code",
      "execution_count": null,
      "metadata": {
        "id": "FxJkmVkJOOKC"
      },
      "outputs": [],
      "source": [
        "import pandas as pd\n",
        "import numpy as np"
      ]
    },
    {
      "cell_type": "code",
      "source": [
        "#extra credit: make another kind of regression model\n"
      ],
      "metadata": {
        "id": "AJqbDZYFOm2F"
      },
      "execution_count": null,
      "outputs": []
    },
    {
      "cell_type": "code",
      "source": [
        "dataset = pd.read_csv ('/content/CountryData-3.csv')\n",
        "dataset"
      ],
      "metadata": {
        "colab": {
          "base_uri": "https://localhost:8080/",
          "height": 731
        },
        "id": "2-My7IR0Ot9v",
        "outputId": "8ddfaaaf-24e7-428e-ae0c-9139abf60d80"
      },
      "execution_count": null,
      "outputs": [
        {
          "output_type": "execute_result",
          "data": {
            "text/plain": [
              "             Country                               Region  Population  \\\n",
              "0       Afghanistan         ASIA (EX. NEAR EAST)             31056997   \n",
              "1           Albania   EASTERN EUROPE                          3581655   \n",
              "2           Algeria   NORTHERN AFRICA                        32930091   \n",
              "3    American Samoa   OCEANIA                                   57794   \n",
              "4           Andorra   WESTERN EUROPE                            71201   \n",
              "..               ...                                  ...         ...   \n",
              "222       West Bank   NEAR EAST                               2460492   \n",
              "223  Western Sahara   NORTHERN AFRICA                          273008   \n",
              "224           Yemen   NEAR EAST                              21456188   \n",
              "225          Zambia   SUB-SAHARAN AFRICA                     11502010   \n",
              "226        Zimbabwe   SUB-SAHARAN AFRICA                     12236805   \n",
              "\n",
              "        Area  Pop. Density  Coastline  Net migration  Infant mortality  \\\n",
              "0     647500          48.0       0.00          23.06            163.07   \n",
              "1      28748         124.6       1.26          -4.93             21.52   \n",
              "2    2381740          13.8       0.04          -0.39             31.00   \n",
              "3        199         290.4      58.29         -20.71              9.27   \n",
              "4        468         152.1       0.00           6.60              4.05   \n",
              "..       ...           ...        ...            ...               ...   \n",
              "222     5860         419.9       0.00           2.98             19.62   \n",
              "223   266000           1.0       0.42            NaN               NaN   \n",
              "224   527970          40.6       0.36           0.00             61.50   \n",
              "225   752614          15.3       0.00           0.00             88.29   \n",
              "226   390580          31.3       0.00           0.00             67.69   \n",
              "\n",
              "         GDP  Literacy  Phones  Arable  Crops  Other  Climate  Birthrate  \\\n",
              "0      700.0      36.0     3.2   12.13   0.22  87.65      1.0      46.60   \n",
              "1     4500.0      86.5    71.2   21.09   4.42  74.49      3.0      15.11   \n",
              "2     6000.0      70.0    78.1    3.22   0.25  96.53      1.0      17.14   \n",
              "3     8000.0      97.0   259.5   10.00  15.00  75.00      2.0      22.46   \n",
              "4    19000.0     100.0   497.2    2.22   0.00  97.78      3.0       8.71   \n",
              "..       ...       ...     ...     ...    ...    ...      ...        ...   \n",
              "222    800.0       NaN   145.2   16.90  18.97  64.13      3.0      31.67   \n",
              "223      NaN       NaN     NaN    0.02   0.00  99.98      1.0        NaN   \n",
              "224    800.0      50.2    37.2    2.78   0.24  96.98      1.0      42.89   \n",
              "225    800.0      80.6     8.2    7.08   0.03  92.90      2.0      41.00   \n",
              "226   1900.0      90.7    26.8    8.32   0.34  91.34      2.0      28.01   \n",
              "\n",
              "     Deathrate  Agriculture  Industry  Service  \n",
              "0        20.34        0.380     0.240    0.380  \n",
              "1         5.22        0.232     0.188    0.579  \n",
              "2         4.61        0.101     0.600    0.298  \n",
              "3         3.27          NaN       NaN      NaN  \n",
              "4         6.25          NaN       NaN      NaN  \n",
              "..         ...          ...       ...      ...  \n",
              "222       3.92        0.090     0.280    0.630  \n",
              "223        NaN          NaN       NaN    0.400  \n",
              "224       8.30        0.135     0.472    0.393  \n",
              "225      19.93        0.220     0.290    0.489  \n",
              "226      21.84        0.179     0.243    0.579  \n",
              "\n",
              "[227 rows x 20 columns]"
            ],
            "text/html": [
              "\n",
              "  <div id=\"df-cd68f9b4-6e6b-4ba3-b9ed-2d45a3629111\">\n",
              "    <div class=\"colab-df-container\">\n",
              "      <div>\n",
              "<style scoped>\n",
              "    .dataframe tbody tr th:only-of-type {\n",
              "        vertical-align: middle;\n",
              "    }\n",
              "\n",
              "    .dataframe tbody tr th {\n",
              "        vertical-align: top;\n",
              "    }\n",
              "\n",
              "    .dataframe thead th {\n",
              "        text-align: right;\n",
              "    }\n",
              "</style>\n",
              "<table border=\"1\" class=\"dataframe\">\n",
              "  <thead>\n",
              "    <tr style=\"text-align: right;\">\n",
              "      <th></th>\n",
              "      <th>Country</th>\n",
              "      <th>Region</th>\n",
              "      <th>Population</th>\n",
              "      <th>Area</th>\n",
              "      <th>Pop. Density</th>\n",
              "      <th>Coastline</th>\n",
              "      <th>Net migration</th>\n",
              "      <th>Infant mortality</th>\n",
              "      <th>GDP</th>\n",
              "      <th>Literacy</th>\n",
              "      <th>Phones</th>\n",
              "      <th>Arable</th>\n",
              "      <th>Crops</th>\n",
              "      <th>Other</th>\n",
              "      <th>Climate</th>\n",
              "      <th>Birthrate</th>\n",
              "      <th>Deathrate</th>\n",
              "      <th>Agriculture</th>\n",
              "      <th>Industry</th>\n",
              "      <th>Service</th>\n",
              "    </tr>\n",
              "  </thead>\n",
              "  <tbody>\n",
              "    <tr>\n",
              "      <th>0</th>\n",
              "      <td>Afghanistan</td>\n",
              "      <td>ASIA (EX. NEAR EAST)</td>\n",
              "      <td>31056997</td>\n",
              "      <td>647500</td>\n",
              "      <td>48.0</td>\n",
              "      <td>0.00</td>\n",
              "      <td>23.06</td>\n",
              "      <td>163.07</td>\n",
              "      <td>700.0</td>\n",
              "      <td>36.0</td>\n",
              "      <td>3.2</td>\n",
              "      <td>12.13</td>\n",
              "      <td>0.22</td>\n",
              "      <td>87.65</td>\n",
              "      <td>1.0</td>\n",
              "      <td>46.60</td>\n",
              "      <td>20.34</td>\n",
              "      <td>0.380</td>\n",
              "      <td>0.240</td>\n",
              "      <td>0.380</td>\n",
              "    </tr>\n",
              "    <tr>\n",
              "      <th>1</th>\n",
              "      <td>Albania</td>\n",
              "      <td>EASTERN EUROPE</td>\n",
              "      <td>3581655</td>\n",
              "      <td>28748</td>\n",
              "      <td>124.6</td>\n",
              "      <td>1.26</td>\n",
              "      <td>-4.93</td>\n",
              "      <td>21.52</td>\n",
              "      <td>4500.0</td>\n",
              "      <td>86.5</td>\n",
              "      <td>71.2</td>\n",
              "      <td>21.09</td>\n",
              "      <td>4.42</td>\n",
              "      <td>74.49</td>\n",
              "      <td>3.0</td>\n",
              "      <td>15.11</td>\n",
              "      <td>5.22</td>\n",
              "      <td>0.232</td>\n",
              "      <td>0.188</td>\n",
              "      <td>0.579</td>\n",
              "    </tr>\n",
              "    <tr>\n",
              "      <th>2</th>\n",
              "      <td>Algeria</td>\n",
              "      <td>NORTHERN AFRICA</td>\n",
              "      <td>32930091</td>\n",
              "      <td>2381740</td>\n",
              "      <td>13.8</td>\n",
              "      <td>0.04</td>\n",
              "      <td>-0.39</td>\n",
              "      <td>31.00</td>\n",
              "      <td>6000.0</td>\n",
              "      <td>70.0</td>\n",
              "      <td>78.1</td>\n",
              "      <td>3.22</td>\n",
              "      <td>0.25</td>\n",
              "      <td>96.53</td>\n",
              "      <td>1.0</td>\n",
              "      <td>17.14</td>\n",
              "      <td>4.61</td>\n",
              "      <td>0.101</td>\n",
              "      <td>0.600</td>\n",
              "      <td>0.298</td>\n",
              "    </tr>\n",
              "    <tr>\n",
              "      <th>3</th>\n",
              "      <td>American Samoa</td>\n",
              "      <td>OCEANIA</td>\n",
              "      <td>57794</td>\n",
              "      <td>199</td>\n",
              "      <td>290.4</td>\n",
              "      <td>58.29</td>\n",
              "      <td>-20.71</td>\n",
              "      <td>9.27</td>\n",
              "      <td>8000.0</td>\n",
              "      <td>97.0</td>\n",
              "      <td>259.5</td>\n",
              "      <td>10.00</td>\n",
              "      <td>15.00</td>\n",
              "      <td>75.00</td>\n",
              "      <td>2.0</td>\n",
              "      <td>22.46</td>\n",
              "      <td>3.27</td>\n",
              "      <td>NaN</td>\n",
              "      <td>NaN</td>\n",
              "      <td>NaN</td>\n",
              "    </tr>\n",
              "    <tr>\n",
              "      <th>4</th>\n",
              "      <td>Andorra</td>\n",
              "      <td>WESTERN EUROPE</td>\n",
              "      <td>71201</td>\n",
              "      <td>468</td>\n",
              "      <td>152.1</td>\n",
              "      <td>0.00</td>\n",
              "      <td>6.60</td>\n",
              "      <td>4.05</td>\n",
              "      <td>19000.0</td>\n",
              "      <td>100.0</td>\n",
              "      <td>497.2</td>\n",
              "      <td>2.22</td>\n",
              "      <td>0.00</td>\n",
              "      <td>97.78</td>\n",
              "      <td>3.0</td>\n",
              "      <td>8.71</td>\n",
              "      <td>6.25</td>\n",
              "      <td>NaN</td>\n",
              "      <td>NaN</td>\n",
              "      <td>NaN</td>\n",
              "    </tr>\n",
              "    <tr>\n",
              "      <th>...</th>\n",
              "      <td>...</td>\n",
              "      <td>...</td>\n",
              "      <td>...</td>\n",
              "      <td>...</td>\n",
              "      <td>...</td>\n",
              "      <td>...</td>\n",
              "      <td>...</td>\n",
              "      <td>...</td>\n",
              "      <td>...</td>\n",
              "      <td>...</td>\n",
              "      <td>...</td>\n",
              "      <td>...</td>\n",
              "      <td>...</td>\n",
              "      <td>...</td>\n",
              "      <td>...</td>\n",
              "      <td>...</td>\n",
              "      <td>...</td>\n",
              "      <td>...</td>\n",
              "      <td>...</td>\n",
              "      <td>...</td>\n",
              "    </tr>\n",
              "    <tr>\n",
              "      <th>222</th>\n",
              "      <td>West Bank</td>\n",
              "      <td>NEAR EAST</td>\n",
              "      <td>2460492</td>\n",
              "      <td>5860</td>\n",
              "      <td>419.9</td>\n",
              "      <td>0.00</td>\n",
              "      <td>2.98</td>\n",
              "      <td>19.62</td>\n",
              "      <td>800.0</td>\n",
              "      <td>NaN</td>\n",
              "      <td>145.2</td>\n",
              "      <td>16.90</td>\n",
              "      <td>18.97</td>\n",
              "      <td>64.13</td>\n",
              "      <td>3.0</td>\n",
              "      <td>31.67</td>\n",
              "      <td>3.92</td>\n",
              "      <td>0.090</td>\n",
              "      <td>0.280</td>\n",
              "      <td>0.630</td>\n",
              "    </tr>\n",
              "    <tr>\n",
              "      <th>223</th>\n",
              "      <td>Western Sahara</td>\n",
              "      <td>NORTHERN AFRICA</td>\n",
              "      <td>273008</td>\n",
              "      <td>266000</td>\n",
              "      <td>1.0</td>\n",
              "      <td>0.42</td>\n",
              "      <td>NaN</td>\n",
              "      <td>NaN</td>\n",
              "      <td>NaN</td>\n",
              "      <td>NaN</td>\n",
              "      <td>NaN</td>\n",
              "      <td>0.02</td>\n",
              "      <td>0.00</td>\n",
              "      <td>99.98</td>\n",
              "      <td>1.0</td>\n",
              "      <td>NaN</td>\n",
              "      <td>NaN</td>\n",
              "      <td>NaN</td>\n",
              "      <td>NaN</td>\n",
              "      <td>0.400</td>\n",
              "    </tr>\n",
              "    <tr>\n",
              "      <th>224</th>\n",
              "      <td>Yemen</td>\n",
              "      <td>NEAR EAST</td>\n",
              "      <td>21456188</td>\n",
              "      <td>527970</td>\n",
              "      <td>40.6</td>\n",
              "      <td>0.36</td>\n",
              "      <td>0.00</td>\n",
              "      <td>61.50</td>\n",
              "      <td>800.0</td>\n",
              "      <td>50.2</td>\n",
              "      <td>37.2</td>\n",
              "      <td>2.78</td>\n",
              "      <td>0.24</td>\n",
              "      <td>96.98</td>\n",
              "      <td>1.0</td>\n",
              "      <td>42.89</td>\n",
              "      <td>8.30</td>\n",
              "      <td>0.135</td>\n",
              "      <td>0.472</td>\n",
              "      <td>0.393</td>\n",
              "    </tr>\n",
              "    <tr>\n",
              "      <th>225</th>\n",
              "      <td>Zambia</td>\n",
              "      <td>SUB-SAHARAN AFRICA</td>\n",
              "      <td>11502010</td>\n",
              "      <td>752614</td>\n",
              "      <td>15.3</td>\n",
              "      <td>0.00</td>\n",
              "      <td>0.00</td>\n",
              "      <td>88.29</td>\n",
              "      <td>800.0</td>\n",
              "      <td>80.6</td>\n",
              "      <td>8.2</td>\n",
              "      <td>7.08</td>\n",
              "      <td>0.03</td>\n",
              "      <td>92.90</td>\n",
              "      <td>2.0</td>\n",
              "      <td>41.00</td>\n",
              "      <td>19.93</td>\n",
              "      <td>0.220</td>\n",
              "      <td>0.290</td>\n",
              "      <td>0.489</td>\n",
              "    </tr>\n",
              "    <tr>\n",
              "      <th>226</th>\n",
              "      <td>Zimbabwe</td>\n",
              "      <td>SUB-SAHARAN AFRICA</td>\n",
              "      <td>12236805</td>\n",
              "      <td>390580</td>\n",
              "      <td>31.3</td>\n",
              "      <td>0.00</td>\n",
              "      <td>0.00</td>\n",
              "      <td>67.69</td>\n",
              "      <td>1900.0</td>\n",
              "      <td>90.7</td>\n",
              "      <td>26.8</td>\n",
              "      <td>8.32</td>\n",
              "      <td>0.34</td>\n",
              "      <td>91.34</td>\n",
              "      <td>2.0</td>\n",
              "      <td>28.01</td>\n",
              "      <td>21.84</td>\n",
              "      <td>0.179</td>\n",
              "      <td>0.243</td>\n",
              "      <td>0.579</td>\n",
              "    </tr>\n",
              "  </tbody>\n",
              "</table>\n",
              "<p>227 rows × 20 columns</p>\n",
              "</div>\n",
              "      <button class=\"colab-df-convert\" onclick=\"convertToInteractive('df-cd68f9b4-6e6b-4ba3-b9ed-2d45a3629111')\"\n",
              "              title=\"Convert this dataframe to an interactive table.\"\n",
              "              style=\"display:none;\">\n",
              "        \n",
              "  <svg xmlns=\"http://www.w3.org/2000/svg\" height=\"24px\"viewBox=\"0 0 24 24\"\n",
              "       width=\"24px\">\n",
              "    <path d=\"M0 0h24v24H0V0z\" fill=\"none\"/>\n",
              "    <path d=\"M18.56 5.44l.94 2.06.94-2.06 2.06-.94-2.06-.94-.94-2.06-.94 2.06-2.06.94zm-11 1L8.5 8.5l.94-2.06 2.06-.94-2.06-.94L8.5 2.5l-.94 2.06-2.06.94zm10 10l.94 2.06.94-2.06 2.06-.94-2.06-.94-.94-2.06-.94 2.06-2.06.94z\"/><path d=\"M17.41 7.96l-1.37-1.37c-.4-.4-.92-.59-1.43-.59-.52 0-1.04.2-1.43.59L10.3 9.45l-7.72 7.72c-.78.78-.78 2.05 0 2.83L4 21.41c.39.39.9.59 1.41.59.51 0 1.02-.2 1.41-.59l7.78-7.78 2.81-2.81c.8-.78.8-2.07 0-2.86zM5.41 20L4 18.59l7.72-7.72 1.47 1.35L5.41 20z\"/>\n",
              "  </svg>\n",
              "      </button>\n",
              "      \n",
              "  <style>\n",
              "    .colab-df-container {\n",
              "      display:flex;\n",
              "      flex-wrap:wrap;\n",
              "      gap: 12px;\n",
              "    }\n",
              "\n",
              "    .colab-df-convert {\n",
              "      background-color: #E8F0FE;\n",
              "      border: none;\n",
              "      border-radius: 50%;\n",
              "      cursor: pointer;\n",
              "      display: none;\n",
              "      fill: #1967D2;\n",
              "      height: 32px;\n",
              "      padding: 0 0 0 0;\n",
              "      width: 32px;\n",
              "    }\n",
              "\n",
              "    .colab-df-convert:hover {\n",
              "      background-color: #E2EBFA;\n",
              "      box-shadow: 0px 1px 2px rgba(60, 64, 67, 0.3), 0px 1px 3px 1px rgba(60, 64, 67, 0.15);\n",
              "      fill: #174EA6;\n",
              "    }\n",
              "\n",
              "    [theme=dark] .colab-df-convert {\n",
              "      background-color: #3B4455;\n",
              "      fill: #D2E3FC;\n",
              "    }\n",
              "\n",
              "    [theme=dark] .colab-df-convert:hover {\n",
              "      background-color: #434B5C;\n",
              "      box-shadow: 0px 1px 3px 1px rgba(0, 0, 0, 0.15);\n",
              "      filter: drop-shadow(0px 1px 2px rgba(0, 0, 0, 0.3));\n",
              "      fill: #FFFFFF;\n",
              "    }\n",
              "  </style>\n",
              "\n",
              "      <script>\n",
              "        const buttonEl =\n",
              "          document.querySelector('#df-cd68f9b4-6e6b-4ba3-b9ed-2d45a3629111 button.colab-df-convert');\n",
              "        buttonEl.style.display =\n",
              "          google.colab.kernel.accessAllowed ? 'block' : 'none';\n",
              "\n",
              "        async function convertToInteractive(key) {\n",
              "          const element = document.querySelector('#df-cd68f9b4-6e6b-4ba3-b9ed-2d45a3629111');\n",
              "          const dataTable =\n",
              "            await google.colab.kernel.invokeFunction('convertToInteractive',\n",
              "                                                     [key], {});\n",
              "          if (!dataTable) return;\n",
              "\n",
              "          const docLinkHtml = 'Like what you see? Visit the ' +\n",
              "            '<a target=\"_blank\" href=https://colab.research.google.com/notebooks/data_table.ipynb>data table notebook</a>'\n",
              "            + ' to learn more about interactive tables.';\n",
              "          element.innerHTML = '';\n",
              "          dataTable['output_type'] = 'display_data';\n",
              "          await google.colab.output.renderOutput(dataTable, element);\n",
              "          const docLink = document.createElement('div');\n",
              "          docLink.innerHTML = docLinkHtml;\n",
              "          element.appendChild(docLink);\n",
              "        }\n",
              "      </script>\n",
              "    </div>\n",
              "  </div>\n",
              "  "
            ]
          },
          "metadata": {},
          "execution_count": 282
        }
      ]
    },
    {
      "cell_type": "code",
      "source": [
        "X1 = dataset.iloc[:, 1:8].values\n",
        "X2 = dataset.iloc[:, 9:].values\n",
        "\n",
        "X = np.concatenate((X1, X2), axis=1)\n",
        "\n",
        "y = dataset.iloc[:, 8].values"
      ],
      "metadata": {
        "id": "1ytIlg4PO3Qp"
      },
      "execution_count": null,
      "outputs": []
    },
    {
      "cell_type": "code",
      "source": [
        "print(X)\n",
        "print()\n",
        "print(y)"
      ],
      "metadata": {
        "colab": {
          "base_uri": "https://localhost:8080/"
        },
        "id": "xM8Ph6huXz67",
        "outputId": "73df910b-56bc-44ec-f416-49c17a2d9c9f"
      },
      "execution_count": null,
      "outputs": [
        {
          "output_type": "stream",
          "name": "stdout",
          "text": [
            "[['ASIA (EX. NEAR EAST)         ' 31056997 647500 ... 0.38 0.24 0.38]\n",
            " ['EASTERN EUROPE                     ' 3581655 28748 ... 0.232 0.188\n",
            "  0.579]\n",
            " ['NORTHERN AFRICA                    ' 32930091 2381740 ... 0.101 0.6\n",
            "  0.298]\n",
            " ...\n",
            " ['NEAR EAST                          ' 21456188 527970 ... 0.135 0.472\n",
            "  0.393]\n",
            " ['SUB-SAHARAN AFRICA                 ' 11502010 752614 ... 0.22 0.29\n",
            "  0.489]\n",
            " ['SUB-SAHARAN AFRICA                 ' 12236805 390580 ... 0.179 0.243\n",
            "  0.579]]\n",
            "\n",
            "[  700.  4500.  6000.  8000. 19000.  1900.  8600. 11000. 11200.  3500.\n",
            " 28000. 29000. 30000.  3400. 16700. 16900.  1900. 15700.  6100. 29100.\n",
            "  4900.  1100. 36000.  1300.  2400.  6100.  9000.  7600. 16000. 18600.\n",
            "  7600.  1100.  1800.   600.  1900.  1800. 29800.  1400. 35000.  1100.\n",
            "  1200.  9900.  5000.  6300.   700.   700.   700.  5000.  9100.  1400.\n",
            " 10600.  2900. 19200. 15700. 31100.  1300.  5400.  6000.   500.  3300.\n",
            "  4000.  4800.  2700.   700. 12300.   700. 22000.  5800. 27400. 27600.\n",
            "  8300. 17500.  5500.  1700.   600.  2500. 27600.  2200. 17500. 20000.\n",
            " 20000.  5000.  8000. 21000.  4100. 20000.  2100.   800.  4000.  1600.\n",
            "  2600. 28800. 13900. 30900.  2900.  3200.  7000.  1500. 29600. 21000.\n",
            " 19800. 26700.  3900. 28200. 24800.  4300.  6300.  1000.   800.  1300.\n",
            " 17800. 19000.  1600.  1700. 10200.  4800.  3000.  1000.  6400. 25000.\n",
            " 11400. 55100. 19400.  6700.   800.   600.  9000.  3900.   900. 17700.\n",
            "  1600. 14400.  1800. 11400.  2600.  9000.  2000.  1800. 27000.  1800.\n",
            "  3400.  4000.  1200.  7200.  5000.  1400. 28600. 11400. 15000. 21600.\n",
            "  2300.   800.   900. 12500. 37800. 13100.  2100.  9000.  6300.  2200.\n",
            "  4700.  5100.  4600. 11100. 18000. 16800. 21500.  5800.  7000.  8900.\n",
            "  1300.  2500.  8800.  5400.  6900.  2900.  5600. 34600.  1200. 11800.\n",
            "  1600.  2200.  7800.   500. 23700. 13300. 19000.  1700.   500. 10700.\n",
            " 22000.  3700.  1900.  4000.  4900. 26800. 32700.  3300. 23400.  1000.\n",
            "   600.  7400.  1500.  2200.  9500.  6900.  6700.  5800.  9600.  1100.\n",
            "  1400.  5400. 23200. 27700. 37800. 12800.  1700.  2900.  4800.  2500.\n",
            " 17200.  3700.   800.    nan   800.   800.  1900.]\n"
          ]
        }
      ]
    },
    {
      "cell_type": "code",
      "source": [
        "from sklearn.impute import SimpleImputer \n",
        "imputer = SimpleImputer(missing_values=np.nan, strategy='mean')\n",
        "imputer.fit(X[:, 2:])\n",
        "X[:, 2:] = imputer.transform(X[:, 2:])"
      ],
      "metadata": {
        "id": "s3nlKqAZffD7"
      },
      "execution_count": null,
      "outputs": []
    },
    {
      "cell_type": "code",
      "source": [
        "print(X[:, 5])"
      ],
      "metadata": {
        "colab": {
          "base_uri": "https://localhost:8080/"
        },
        "id": "jCtLIXo4gMar",
        "outputId": "a98b1b97-2b7f-475a-aede-0f189a28dfa7"
      },
      "execution_count": null,
      "outputs": [
        {
          "output_type": "stream",
          "name": "stdout",
          "text": [
            "[23.06 -4.93 -0.39 -20.71 6.6 0.0 10.76 -6.15 0.61 -6.47 0.0 3.98 2.0 -4.9\n",
            " -2.2 1.05 -0.71 -0.31 2.54 1.23 0.0 0.0 2.49 0.0 -1.32 0.31 0.0 -0.03\n",
            " 10.01 3.59 -4.58 0.0 -1.8 -0.06 0.0 0.0 5.96 -12.07 18.75 0.0 -0.11 0.0\n",
            " -0.4 -0.31 0.0 0.0 -0.17 0.038124999999999985 0.51 -0.07 1.58 -1.58 0.43\n",
            " 0.97 2.48 0.0 -13.87 -3.22 0.0 -8.58 -0.22 -3.74 0.0 0.0 -3.16 0.0 1.41\n",
            " -3.14 0.95 0.66 6.27 2.94 0.0 1.57 1.6 -4.7 2.18 -0.64 0.0 2.35 -8.37\n",
            " -13.92 -0.15 0.0 -1.67 3.84 -3.06 -1.57 -2.07 -3.4 -1.99 5.24 0.86 2.38\n",
            " -0.07 0.0 -0.84 0.0 4.99 5.36 0.68 2.07 -4.92 0.0 2.76 6.59 -3.35 -0.1\n",
            " 0.0 0.0 0.0 14.18 -2.45 0.0 -2.23 0.0 -0.74 0.0 0.0 4.85 -0.71 8.97 4.86\n",
            " -1.45 0.0 0.0 0.0 0.0 -0.33 2.07 -6.04 -0.05 0.0 -0.9 6.78 -4.87 -20.99\n",
            " -0.26 7.75 0.0 0.0 -0.98 0.0 0.0 0.0 0.0 2.91 -0.41 0.0 4.05 -1.22 -0.67\n",
            " 0.26 9.61 1.74 0.28 -2.77 2.85 -0.91 0.0 -0.08 -1.05 -1.5 -0.49 3.57\n",
            " -1.46 16.29 0.0 -0.13 1.02 0.0 0.0 -7.11 -2.67 -4.86 -7.64 -11.7 10.98\n",
            " -2.72 -2.71 0.2 -1.33 -5.69 0.0 11.53 0.3 1.12 0.0 5.37 -0.29 0.99 -1.31\n",
            " -0.02 -8.81 0.0 1.67 4.05 0.0 0.0 -2.86 -2.06 0.0 0.0 0.0 -10.83 -0.57\n",
            " 0.0 -0.86 11.68 0.0 0.0 -0.39 1.03 2.19 3.41 -0.32 -1.72 0.0 -0.04 -0.45\n",
            " -8.94 0.038124999999999985 2.98 0.038124999999999985 0.0 0.0 0.0]\n"
          ]
        }
      ]
    },
    {
      "cell_type": "code",
      "source": [
        "pd.DataFrame(y).isnull().sum()"
      ],
      "metadata": {
        "colab": {
          "base_uri": "https://localhost:8080/"
        },
        "id": "2HkN1ikkllYI",
        "outputId": "0b35c8a5-37c9-4124-c31d-e2a325c6f62a"
      },
      "execution_count": null,
      "outputs": [
        {
          "output_type": "execute_result",
          "data": {
            "text/plain": [
              "0    1\n",
              "dtype: int64"
            ]
          },
          "metadata": {},
          "execution_count": 287
        }
      ]
    },
    {
      "cell_type": "code",
      "source": [
        "y = np.nan_to_num(y,nan=50000)"
      ],
      "metadata": {
        "id": "s-tXtKNgirdC"
      },
      "execution_count": null,
      "outputs": []
    },
    {
      "cell_type": "code",
      "source": [
        "y.mean()"
      ],
      "metadata": {
        "colab": {
          "base_uri": "https://localhost:8080/"
        },
        "id": "NbmdOGIfsQQu",
        "outputId": "bba001c8-18cc-481c-ff71-751da170cafa"
      },
      "execution_count": null,
      "outputs": [
        {
          "output_type": "execute_result",
          "data": {
            "text/plain": [
              "9867.400881057269"
            ]
          },
          "metadata": {},
          "execution_count": 289
        }
      ]
    },
    {
      "cell_type": "code",
      "source": [
        "print(y)"
      ],
      "metadata": {
        "colab": {
          "base_uri": "https://localhost:8080/"
        },
        "id": "JsSBbKEBpcfh",
        "outputId": "35fd70aa-3275-4248-836d-6b2c2aa5cd5d"
      },
      "execution_count": null,
      "outputs": [
        {
          "output_type": "stream",
          "name": "stdout",
          "text": [
            "[  700.  4500.  6000.  8000. 19000.  1900.  8600. 11000. 11200.  3500.\n",
            " 28000. 29000. 30000.  3400. 16700. 16900.  1900. 15700.  6100. 29100.\n",
            "  4900.  1100. 36000.  1300.  2400.  6100.  9000.  7600. 16000. 18600.\n",
            "  7600.  1100.  1800.   600.  1900.  1800. 29800.  1400. 35000.  1100.\n",
            "  1200.  9900.  5000.  6300.   700.   700.   700.  5000.  9100.  1400.\n",
            " 10600.  2900. 19200. 15700. 31100.  1300.  5400.  6000.   500.  3300.\n",
            "  4000.  4800.  2700.   700. 12300.   700. 22000.  5800. 27400. 27600.\n",
            "  8300. 17500.  5500.  1700.   600.  2500. 27600.  2200. 17500. 20000.\n",
            " 20000.  5000.  8000. 21000.  4100. 20000.  2100.   800.  4000.  1600.\n",
            "  2600. 28800. 13900. 30900.  2900.  3200.  7000.  1500. 29600. 21000.\n",
            " 19800. 26700.  3900. 28200. 24800.  4300.  6300.  1000.   800.  1300.\n",
            " 17800. 19000.  1600.  1700. 10200.  4800.  3000.  1000.  6400. 25000.\n",
            " 11400. 55100. 19400.  6700.   800.   600.  9000.  3900.   900. 17700.\n",
            "  1600. 14400.  1800. 11400.  2600.  9000.  2000.  1800. 27000.  1800.\n",
            "  3400.  4000.  1200.  7200.  5000.  1400. 28600. 11400. 15000. 21600.\n",
            "  2300.   800.   900. 12500. 37800. 13100.  2100.  9000.  6300.  2200.\n",
            "  4700.  5100.  4600. 11100. 18000. 16800. 21500.  5800.  7000.  8900.\n",
            "  1300.  2500.  8800.  5400.  6900.  2900.  5600. 34600.  1200. 11800.\n",
            "  1600.  2200.  7800.   500. 23700. 13300. 19000.  1700.   500. 10700.\n",
            " 22000.  3700.  1900.  4000.  4900. 26800. 32700.  3300. 23400.  1000.\n",
            "   600.  7400.  1500.  2200.  9500.  6900.  6700.  5800.  9600.  1100.\n",
            "  1400.  5400. 23200. 27700. 37800. 12800.  1700.  2900.  4800.  2500.\n",
            " 17200.  3700.   800. 50000.   800.   800.  1900.]\n"
          ]
        }
      ]
    },
    {
      "cell_type": "code",
      "source": [
        "from sklearn.compose import ColumnTransformer\n",
        "from sklearn.preprocessing import OneHotEncoder\n",
        "\n",
        "ct = ColumnTransformer(transformers = [('encoder', OneHotEncoder(), [0])], remainder = 'passthrough')\n",
        "X = np.array(ct.fit_transform(X))"
      ],
      "metadata": {
        "id": "AdWtxZMZYGaV"
      },
      "execution_count": null,
      "outputs": []
    },
    {
      "cell_type": "code",
      "source": [
        "print(X)"
      ],
      "metadata": {
        "colab": {
          "base_uri": "https://localhost:8080/"
        },
        "id": "FA2ym1Ceh9As",
        "outputId": "02132f99-9f4d-4fce-fa63-baa414126e00"
      },
      "execution_count": null,
      "outputs": [
        {
          "output_type": "stream",
          "name": "stdout",
          "text": [
            "[[1.0 0.0 0.0 ... 0.38 0.24 0.38]\n",
            " [0.0 0.0 0.0 ... 0.232 0.188 0.579]\n",
            " [0.0 0.0 0.0 ... 0.101 0.6 0.298]\n",
            " ...\n",
            " [0.0 0.0 0.0 ... 0.135 0.472 0.393]\n",
            " [0.0 0.0 0.0 ... 0.22 0.29 0.489]\n",
            " [0.0 0.0 0.0 ... 0.179 0.243 0.579]]\n"
          ]
        }
      ]
    },
    {
      "cell_type": "code",
      "source": [
        "from sklearn.model_selection import train_test_split\n",
        "X_train, X_test, y_train, y_test = train_test_split(X, y, test_size = 0.2, random_state = 0)"
      ],
      "metadata": {
        "id": "Y8xL_b7EiVfH"
      },
      "execution_count": null,
      "outputs": []
    },
    {
      "cell_type": "code",
      "source": [
        "print(X_train)"
      ],
      "metadata": {
        "colab": {
          "base_uri": "https://localhost:8080/"
        },
        "id": "u97othmNidGj",
        "outputId": "e3b1de8d-88d0-4311-af87-86670d7f40d0"
      },
      "execution_count": null,
      "outputs": [
        {
          "output_type": "stream",
          "name": "stdout",
          "text": [
            "[[0.0 0.0 0.0 ... 0.463 0.203 0.334]\n",
            " [0.0 0.0 0.0 ... 0.01 0.204 0.787]\n",
            " [0.0 0.0 1.0 ... 0.213 0.233 0.555]\n",
            " ...\n",
            " [0.0 0.0 0.0 ... 0.769 0.054 0.177]\n",
            " [0.0 0.0 0.0 ... 0.151 0.096 0.753]\n",
            " [0.0 0.0 0.0 ... 0.035 0.258 0.707]]\n"
          ]
        }
      ]
    },
    {
      "cell_type": "code",
      "source": [
        "print(y_train)"
      ],
      "metadata": {
        "colab": {
          "base_uri": "https://localhost:8080/"
        },
        "id": "6ljoZHPcifne",
        "outputId": "ad476e85-3fba-42a3-8fa3-6f453d9292b4"
      },
      "execution_count": null,
      "outputs": [
        {
          "output_type": "stream",
          "name": "stdout",
          "text": [
            "[  600. 37800.  1800.  2200. 26700. 11800. 22000.  2500.  1900. 28600.\n",
            "  1300.  4700.  7400. 36000. 21600.  2600.   700.  9000. 19000. 17800.\n",
            "  4800. 19200. 22000.  9000. 21500.  1200.  3400.  9000.  1600.  2400.\n",
            "  7600.  6700.  4000.  5400.   800. 24800. 29100.  1300.  6400. 31100.\n",
            "  7800. 20000.  2900. 19000.  2100. 23400.  2100. 27000. 17700.  5100.\n",
            "  3000.  9900. 16700.  7600. 10600.  6900.  4900.  1600.   700. 13100.\n",
            "   800. 19000.  2200.  2700.   600.  6000.  3300.  1800.  4800.  6300.\n",
            "  1200. 28000.   900.  1700.  2900. 17200.  1600.  1500.  9500. 29600.\n",
            "  8000. 30900.  2000.  1700.  1700.   700.  2900.  3200. 27600.  1400.\n",
            "  9100. 20000.   800.  1300. 17500. 19800. 14400.   500.   800.  8600.\n",
            " 27400.  4100. 55100. 23200.  1900.  4900.  1700.  5800. 28800.  1400.\n",
            " 29000. 25000.  3900.  1800.  6000.   700.  4500. 11400.  2200.  5000.\n",
            "  4300.  1800. 32700. 15700. 35000. 11400. 15700. 18000.  3700.   900.\n",
            "  1900. 16000. 10200. 11100.   800.  1100. 13300.  3900.   600.  1800.\n",
            "  5800.  1200. 10700. 11400. 18600. 34600. 21000.  8000. 50000.  2900.\n",
            " 20000.  3300.  4800. 15000.  2500.  5500.  2200.  6100. 16800.  5000.\n",
            " 27700.  6900. 12800.  1100.  4000.   500.  3400.  4000.  8300.   800.\n",
            " 29800.  1100.  5400.  3500. 28200. 26800.  5800.  1900.  1000.  5000.\n",
            "  8800.]\n"
          ]
        }
      ]
    },
    {
      "cell_type": "code",
      "source": [
        "from sklearn.preprocessing import StandardScaler\n",
        "sc = StandardScaler()\n",
        "X_train[:, 13:] = sc.fit_transform(X_train [:, 13:])\n",
        "X_test[:, 13:] = sc.transform(X_test [:, 13:])"
      ],
      "metadata": {
        "id": "9OEOeSwOqXjr"
      },
      "execution_count": null,
      "outputs": []
    },
    {
      "cell_type": "code",
      "source": [
        "from sklearn.linear_model import LinearRegression\n",
        "\n",
        "regressor = LinearRegression()\n",
        "\n",
        "regressor.fit(X_train, y_train)"
      ],
      "metadata": {
        "colab": {
          "base_uri": "https://localhost:8080/",
          "height": 75
        },
        "id": "p112H5QuiiEf",
        "outputId": "00083b68-18cf-4e5f-e3c9-94a2b4e3be65"
      },
      "execution_count": null,
      "outputs": [
        {
          "output_type": "execute_result",
          "data": {
            "text/plain": [
              "LinearRegression()"
            ],
            "text/html": [
              "<style>#sk-container-id-12 {color: black;background-color: white;}#sk-container-id-12 pre{padding: 0;}#sk-container-id-12 div.sk-toggleable {background-color: white;}#sk-container-id-12 label.sk-toggleable__label {cursor: pointer;display: block;width: 100%;margin-bottom: 0;padding: 0.3em;box-sizing: border-box;text-align: center;}#sk-container-id-12 label.sk-toggleable__label-arrow:before {content: \"▸\";float: left;margin-right: 0.25em;color: #696969;}#sk-container-id-12 label.sk-toggleable__label-arrow:hover:before {color: black;}#sk-container-id-12 div.sk-estimator:hover label.sk-toggleable__label-arrow:before {color: black;}#sk-container-id-12 div.sk-toggleable__content {max-height: 0;max-width: 0;overflow: hidden;text-align: left;background-color: #f0f8ff;}#sk-container-id-12 div.sk-toggleable__content pre {margin: 0.2em;color: black;border-radius: 0.25em;background-color: #f0f8ff;}#sk-container-id-12 input.sk-toggleable__control:checked~div.sk-toggleable__content {max-height: 200px;max-width: 100%;overflow: auto;}#sk-container-id-12 input.sk-toggleable__control:checked~label.sk-toggleable__label-arrow:before {content: \"▾\";}#sk-container-id-12 div.sk-estimator input.sk-toggleable__control:checked~label.sk-toggleable__label {background-color: #d4ebff;}#sk-container-id-12 div.sk-label input.sk-toggleable__control:checked~label.sk-toggleable__label {background-color: #d4ebff;}#sk-container-id-12 input.sk-hidden--visually {border: 0;clip: rect(1px 1px 1px 1px);clip: rect(1px, 1px, 1px, 1px);height: 1px;margin: -1px;overflow: hidden;padding: 0;position: absolute;width: 1px;}#sk-container-id-12 div.sk-estimator {font-family: monospace;background-color: #f0f8ff;border: 1px dotted black;border-radius: 0.25em;box-sizing: border-box;margin-bottom: 0.5em;}#sk-container-id-12 div.sk-estimator:hover {background-color: #d4ebff;}#sk-container-id-12 div.sk-parallel-item::after {content: \"\";width: 100%;border-bottom: 1px solid gray;flex-grow: 1;}#sk-container-id-12 div.sk-label:hover label.sk-toggleable__label {background-color: #d4ebff;}#sk-container-id-12 div.sk-serial::before {content: \"\";position: absolute;border-left: 1px solid gray;box-sizing: border-box;top: 0;bottom: 0;left: 50%;z-index: 0;}#sk-container-id-12 div.sk-serial {display: flex;flex-direction: column;align-items: center;background-color: white;padding-right: 0.2em;padding-left: 0.2em;position: relative;}#sk-container-id-12 div.sk-item {position: relative;z-index: 1;}#sk-container-id-12 div.sk-parallel {display: flex;align-items: stretch;justify-content: center;background-color: white;position: relative;}#sk-container-id-12 div.sk-item::before, #sk-container-id-12 div.sk-parallel-item::before {content: \"\";position: absolute;border-left: 1px solid gray;box-sizing: border-box;top: 0;bottom: 0;left: 50%;z-index: -1;}#sk-container-id-12 div.sk-parallel-item {display: flex;flex-direction: column;z-index: 1;position: relative;background-color: white;}#sk-container-id-12 div.sk-parallel-item:first-child::after {align-self: flex-end;width: 50%;}#sk-container-id-12 div.sk-parallel-item:last-child::after {align-self: flex-start;width: 50%;}#sk-container-id-12 div.sk-parallel-item:only-child::after {width: 0;}#sk-container-id-12 div.sk-dashed-wrapped {border: 1px dashed gray;margin: 0 0.4em 0.5em 0.4em;box-sizing: border-box;padding-bottom: 0.4em;background-color: white;}#sk-container-id-12 div.sk-label label {font-family: monospace;font-weight: bold;display: inline-block;line-height: 1.2em;}#sk-container-id-12 div.sk-label-container {text-align: center;}#sk-container-id-12 div.sk-container {/* jupyter's `normalize.less` sets `[hidden] { display: none; }` but bootstrap.min.css set `[hidden] { display: none !important; }` so we also need the `!important` here to be able to override the default hidden behavior on the sphinx rendered scikit-learn.org. See: https://github.com/scikit-learn/scikit-learn/issues/21755 */display: inline-block !important;position: relative;}#sk-container-id-12 div.sk-text-repr-fallback {display: none;}</style><div id=\"sk-container-id-12\" class=\"sk-top-container\"><div class=\"sk-text-repr-fallback\"><pre>LinearRegression()</pre><b>In a Jupyter environment, please rerun this cell to show the HTML representation or trust the notebook. <br />On GitHub, the HTML representation is unable to render, please try loading this page with nbviewer.org.</b></div><div class=\"sk-container\" hidden><div class=\"sk-item\"><div class=\"sk-estimator sk-toggleable\"><input class=\"sk-toggleable__control sk-hidden--visually\" id=\"sk-estimator-id-12\" type=\"checkbox\" checked><label for=\"sk-estimator-id-12\" class=\"sk-toggleable__label sk-toggleable__label-arrow\">LinearRegression</label><div class=\"sk-toggleable__content\"><pre>LinearRegression()</pre></div></div></div></div></div>"
            ]
          },
          "metadata": {},
          "execution_count": 297
        }
      ]
    },
    {
      "cell_type": "code",
      "source": [
        "y_pred = regressor.predict(X_test)\n",
        "print(y_pred)"
      ],
      "metadata": {
        "colab": {
          "base_uri": "https://localhost:8080/"
        },
        "id": "i6vK-qT9pwkf",
        "outputId": "1419b5d2-4325-44cc-ca15-55cfd987e265"
      },
      "execution_count": null,
      "outputs": [
        {
          "output_type": "stream",
          "name": "stdout",
          "text": [
            "[  629.93356383 16257.12815046  5445.03250253 17785.66760623\n",
            " 28950.86728823 13727.17239439  5761.23808539  6791.90931964\n",
            "  6150.11032438 19524.97743392  7966.77750337  4454.44627798\n",
            " 11084.25682139  9552.16163135 14227.85153043  -765.72824371\n",
            "  4046.53259337  2352.18075085  -399.96658695 11765.2565161\n",
            "  5697.91649067  8284.57840133  8521.21488345  3683.60615814\n",
            "  2340.59376276  3820.8791604  -1613.92595506  4433.59114277\n",
            " 23932.71469796 11233.6458776   3684.01273632  6534.68418682\n",
            "  5792.3654443   3511.33635151 23776.62564349 10664.85005915\n",
            " 13184.1879288   1239.93502057 13556.93316209 12212.72828662\n",
            "  6502.71636653 11778.55393386   663.956563    3353.12975323\n",
            " 12991.21131492 13941.78469741]\n"
          ]
        }
      ]
    },
    {
      "cell_type": "code",
      "source": [
        "residuals = y_test - y_pred\n",
        "print(residuals)"
      ],
      "metadata": {
        "colab": {
          "base_uri": "https://localhost:8080/"
        },
        "id": "hr-Iz9NEpywU",
        "outputId": "13cd88cf-25b5-474b-bc83-8d804dc52a79"
      },
      "execution_count": null,
      "outputs": [
        {
          "output_type": "stream",
          "name": "stdout",
          "text": [
            "[   970.06643617   4742.87184954    854.96749747   5914.33239377\n",
            "  -1350.86728823 -11227.17239439  -3161.23808539  -6191.90931964\n",
            "  -5050.11032438 -10624.97743392  -2966.77750337  -2954.44627798\n",
            "   1215.74317861   1647.83836865  -1727.85153043   1265.72824371\n",
            "    -46.53259337   -452.18075085   1099.96658695  -2165.2565161\n",
            "  -1997.91649067  -1084.57840133  -1521.21488345   1916.39384186\n",
            "  -1540.59376276  -3120.8791604    2613.92595506  -3033.59114277\n",
            "   6067.28530204   8166.3541224     915.98726368   2465.31581318\n",
            "    507.6345557   -2211.33635151  14023.37435651  -4564.85005915\n",
            "   3715.8120712    1060.06497943  -2556.93316209  -5212.72828662\n",
            "  -1102.71636653  -5078.55393386    736.043437    -2353.12975323\n",
            "    908.78868508   3558.21530259]\n"
          ]
        }
      ]
    },
    {
      "cell_type": "code",
      "source": [
        "regressor.score(X_test, y_test)"
      ],
      "metadata": {
        "colab": {
          "base_uri": "https://localhost:8080/"
        },
        "id": "uHRW3oeop1Dv",
        "outputId": "fb35a299-c73d-4b56-d1a2-f5698bb3697e"
      },
      "execution_count": null,
      "outputs": [
        {
          "output_type": "execute_result",
          "data": {
            "text/plain": [
              "0.7434511487168624"
            ]
          },
          "metadata": {},
          "execution_count": 300
        }
      ]
    }
  ]
}